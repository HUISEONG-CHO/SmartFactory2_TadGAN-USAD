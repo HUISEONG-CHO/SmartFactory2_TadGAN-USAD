{
 "cells": [
  {
   "cell_type": "code",
   "execution_count": 1,
   "metadata": {
    "colab": {
     "base_uri": "https://localhost:8080/"
    },
    "id": "mDxgs63lALVa",
    "outputId": "c44584a3-3c60-4dd3-c402-128ffb48fa75"
   },
   "outputs": [
    {
     "name": "stdout",
     "output_type": "stream",
     "text": [
      "연결에 성공했습니다.\n"
     ]
    }
   ],
   "source": [
    "#연결 (2)\n",
    "from socket import *\n",
    "import os\n",
    "import sys\n",
    "import time\n",
    "\n",
    "clientSock = socket(AF_INET, SOCK_STREAM)\n",
    "clientSock.connect(('127.0.0.1', 5050))\n",
    "print('연결에 성공했습니다.')"
   ]
  },
  {
   "cell_type": "code",
   "execution_count": 2,
   "metadata": {
    "colab": {
     "base_uri": "https://localhost:8080/"
    },
    "id": "TgFQHu5eWhhk",
    "outputId": "1cd49a09-a010-4808-ac95-71294745249f"
   },
   "outputs": [
    {
     "name": "stdout",
     "output_type": "stream",
     "text": [
      "전송할 파일 이름을 입력하세요: Bearing1_1_dwt.csv\n"
     ]
    }
   ],
   "source": [
    "#클라이언트측에서 요구하는 파일명 전송 (4)\n",
    "filename = input('전송할 파일 이름을 입력하세요: ')\n",
    "clientSock.sendall(filename.encode('utf-8'))"
   ]
  },
  {
   "cell_type": "code",
   "execution_count": 3,
   "metadata": {
    "colab": {
     "base_uri": "https://localhost:8080/",
     "height": 277
    },
    "id": "GiaBdF6_Ismb",
    "outputId": "d6424764-77d5-4ea4-c06c-ee04be80cd83"
   },
   "outputs": [
    {
     "name": "stdout",
     "output_type": "stream",
     "text": [
      "전송완료\n",
      "파일 Bearing1_1_dwt.csv 받기 완료. 전송량 1205240\n",
      "발송 소요 시간:  0.01098 sec\n"
     ]
    }
   ],
   "source": [
    "#파일 수신 (5)\n",
    "data = clientSock.recv(1024)\n",
    "data_transferred = 0\n",
    "if not data:\n",
    "    print('파일 %s 가 서버에 존재하지 않음' %filename)\n",
    "    sys.exit()\n",
    "\n",
    "start = time.time()\n",
    "with open(filename, 'wb') as f:\n",
    "    try:\n",
    "        while data:\n",
    "            f.write(data)\n",
    "            data_transferred += len(data)\n",
    "            if data_transferred == 1205240:\n",
    "                closesocket(clientSock)\n",
    "            data = clientSock.recv(1024)\n",
    "    except Exception as ex:\n",
    "        print(\"전송완료\")\n",
    "\n",
    "end = time.time()\n",
    "print('파일 %s 받기 완료. 전송량 %d' %(filename, data_transferred))\n",
    "print(\"수신 소요 시간: \",f\"{end - start:.5f} sec\")"
   ]
  },
  {
   "cell_type": "code",
   "execution_count": null,
   "metadata": {},
   "outputs": [],
   "source": []
  }
 ],
 "metadata": {
  "accelerator": "GPU",
  "colab": {
   "background_execution": "on",
   "collapsed_sections": [],
   "machine_shape": "hm",
   "name": "파일전송-클라이언트.ipynb",
   "provenance": []
  },
  "kernelspec": {
   "display_name": "Python 3",
   "language": "python",
   "name": "python3"
  },
  "language_info": {
   "codemirror_mode": {
    "name": "ipython",
    "version": 3
   },
   "file_extension": ".py",
   "mimetype": "text/x-python",
   "name": "python",
   "nbconvert_exporter": "python",
   "pygments_lexer": "ipython3",
   "version": "3.8.8"
  }
 },
 "nbformat": 4,
 "nbformat_minor": 1
}
