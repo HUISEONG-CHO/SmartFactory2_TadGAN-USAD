{
 "cells": [
  {
   "cell_type": "code",
   "execution_count": 1,
   "metadata": {
    "id": "WxWR0256__xt"
   },
   "outputs": [],
   "source": [
    "#소켓 생성 (1)\n",
    "from socket import *\n",
    "from os.path import exists\n",
    "import sys\n",
    "import time\n",
    "\n",
    "serverSock = socket(AF_INET, SOCK_STREAM)\n",
    "serverSock.setsockopt(SOL_SOCKET, SO_REUSEADDR, 1)\n",
    "serverSock.bind(('127.0.0.1', 5050))\n",
    "serverSock.listen(1)"
   ]
  },
  {
   "cell_type": "code",
   "execution_count": 2,
   "metadata": {
    "colab": {
     "base_uri": "https://localhost:8080/"
    },
    "id": "Jm_WDzfPIjgn",
    "outputId": "3313c888-074c-43d4-bb39-9303fdbfd7b6"
   },
   "outputs": [
    {
     "name": "stdout",
     "output_type": "stream",
     "text": [
      "('127.0.0.1', 53401) 에서 접속했습니다\n"
     ]
    }
   ],
   "source": [
    "#클라이언트 정보 출력 (3)\n",
    "connectionSock, addr = serverSock.accept()\n",
    "\n",
    "print(str(addr),'에서 접속했습니다')"
   ]
  },
  {
   "cell_type": "code",
   "execution_count": 3,
   "metadata": {
    "colab": {
     "base_uri": "https://localhost:8080/",
     "height": 152
    },
    "id": "0RUMCuefInEn",
    "outputId": "879701f8-06ab-42d4-b0d3-1bdd6ab89d74"
   },
   "outputs": [
    {
     "name": "stdout",
     "output_type": "stream",
     "text": [
      "받은 데이터 :  Bearing1_1_dwt.csv\n",
      "파일 b'Bearing1_1_dwt.csv' 전송 시작\n",
      "전송완료 b'Bearing1_1_dwt.csv', 전송량 1205240\n",
      "발송 소요 시간:  0.00925 sec\n"
     ]
    }
   ],
   "source": [
    "#파일 전송 (6)\n",
    "filename = connectionSock.recv(1024)\n",
    "print('받은 데이터 : ', filename.decode('utf-8'))\n",
    "data_transferred = 0\n",
    "\n",
    "if not exists(filename):\n",
    "    print(\"no file\")\n",
    "    sys.exit()\n",
    "\n",
    "start = time.time()\n",
    "print(\"파일 %s 전송 시작\" %filename)\n",
    "with open(filename, 'rb') as f:\n",
    "    try:\n",
    "        data = f.read(1024)\n",
    "        while data:\n",
    "            data_transferred += connectionSock.send(data)\n",
    "            data = f.read(1024)\n",
    "    except Exception as ex:\n",
    "        print(ex)\n",
    "\n",
    "end = time.time()\n",
    "print(\"전송완료 %s, 전송량 %d\" %(filename, data_transferred))\n",
    "print(\"발송 소요 시간: \",f\"{end - start:.5f} sec\")"
   ]
  },
  {
   "cell_type": "code",
   "execution_count": null,
   "metadata": {},
   "outputs": [],
   "source": []
  }
 ],
 "metadata": {
  "accelerator": "GPU",
  "colab": {
   "background_execution": "on",
   "collapsed_sections": [],
   "machine_shape": "hm",
   "name": "파일전송-서버.ipynb",
   "provenance": []
  },
  "kernelspec": {
   "display_name": "Python 3",
   "language": "python",
   "name": "python3"
  },
  "language_info": {
   "codemirror_mode": {
    "name": "ipython",
    "version": 3
   },
   "file_extension": ".py",
   "mimetype": "text/x-python",
   "name": "python",
   "nbconvert_exporter": "python",
   "pygments_lexer": "ipython3",
   "version": "3.8.8"
  }
 },
 "nbformat": 4,
 "nbformat_minor": 1
}
