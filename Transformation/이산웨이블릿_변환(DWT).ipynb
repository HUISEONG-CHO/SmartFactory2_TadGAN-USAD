{
  "cells": [
    {
      "cell_type": "code",
      "execution_count": null,
      "metadata": {
        "id": "uYMKG66wINSm"
      },
      "outputs": [],
      "source": [
        "# 이산 웨이블릿 변환(DWT) 코드 실행에 필요한 라이브러리\n",
        "import pandas as pd\n",
        "from matplotlib import pyplot as plt\n",
        "import pywt\n",
        "import os\n",
        "import tqdm \n",
        "import pandas as pd\n",
        "import numpy as np\n",
        "from sklearn.linear_model import LinearRegression\n",
        "from sklearn.model_selection import train_test_split\n",
        "from sklearn.preprocessing import OneHotEncoder\n",
        "from sklearn.metrics import mean_squared_error, r2_score\n",
        "import seaborn as sns\n",
        "import lightgbm as lgb\n",
        "from sklearn.preprocessing import StandardScaler\n",
        "from sklearn.decomposition import PCA\n",
        "\n",
        "import matplotlib.pyplot as plt\n",
        "from numpy import arange, ones, pi\n",
        "from scipy import cos, sin\n",
        "from scipy.fftpack import fft, fftfreq, ifft\n",
        "from scipy.stats import skew\n",
        "import pywt\n",
        "from scipy.stats import kurtosis"
      ]
    },
    {
      "cell_type": "code",
      "execution_count": null,
      "metadata": {
        "id": "5OYcaod7Iczb"
      },
      "outputs": [],
      "source": [
        "# 파일이 저장된 디렉토리\n",
        "abspath = os.path.abspath('./dataset')"
      ]
    },
    {
      "cell_type": "code",
      "execution_count": null,
      "metadata": {
        "id": "mgXV4tPqIsLS"
      },
      "outputs": [],
      "source": [
        "# 이산 웨이블릿 변환하는 함수\n",
        "def dwt(data):\n",
        "    eli_len = len(data) % 64\n",
        "    data = data.iloc[:-eli_len]\n",
        "        \n",
        "    y_hori = data['Horiz'] \n",
        "    y_verti = data['Vert'] \n",
        "            \n",
        "    h_coff = pywt.swt(list(y_hori), 'db4',level=5,axis=0)\n",
        "    v_coff = pywt.swt(list(y_verti), 'db4',level=5,axis = 0)\n",
        "    \n",
        "    \n",
        "    # concat wavelet coff\n",
        "    h_data = pd.concat([pd.DataFrame(i).T for i in h_coff],axis =1)\n",
        "    v_data = pd.concat([pd.DataFrame(i).T for i in v_coff],axis =1)\n",
        "    \n",
        "    # set col name\n",
        "    col_name_h = ['h_cA5','h_cD5','h_cA4','h_cD4','h_cA3','h_cD3','h_cA2','h_cD2','h_cA1','h_cD1']\n",
        "    col_name_v = ['v_cA5','v_cD5','v_cA4','v_cD4','v_cA3','v_cD3','v_cA2','v_cD2','v_cA1','v_cD1']\n",
        "\n",
        "    h_data.columns = col_name_h\n",
        "    v_data.columns = col_name_v\n",
        "    \n",
        "    # merge(기본, H coffs , V coffs)\n",
        "    final = pd.concat([data,h_data,v_data],axis= 1)\n",
        "    final_value = final.rolling(5).mean().max()\n",
        "    return final_value"
      ]
    },
    {
      "cell_type": "code",
      "execution_count": null,
      "metadata": {
        "colab": {
          "base_uri": "https://localhost:8080/"
        },
        "id": "LeRbEv69IsNc",
        "outputId": "9dd1435c-937a-45b9-f74c-198355a1aba5"
      },
      "outputs": [
        {
          "output_type": "stream",
          "name": "stdout",
          "text": [
            "['Learning_set', 'Test_set']\n",
            "Full_Test_Set\n",
            "Bearing2_1\n",
            "Bearing3_2\n",
            "Bearing2_2\n",
            "Bearing3_1\n",
            "Bearing1_2\n",
            "Bearing1_1\n"
          ]
        },
        {
          "output_type": "stream",
          "name": "stderr",
          "text": [
            "100%|██████████| 2802/2802 [28:04<00:00,  1.66it/s]\n"
          ]
        },
        {
          "output_type": "stream",
          "name": "stdout",
          "text": [
            "     H     M     S        MS   Horiz    Vert     h_cA5     h_cD5     h_cA4  \\\n",
            "0  9.0  38.0  46.0  963084.0  3.7892  0.7042  5.757505  8.546910  7.569509   \n",
            "1  9.0  38.0  46.0  963084.0  2.8348  0.5402  5.821120  5.340468  6.069265   \n",
            "2  9.0  39.0  39.0  163084.0  1.0764  0.5596  1.049991  0.922511  1.114473   \n",
            "3  9.0  39.0  49.0  163084.0  0.9760  0.5398  1.156439  0.908138  1.112332   \n",
            "4  9.0  39.0  59.0  163084.0  0.7118  0.4946  0.929293  0.937082  0.943502   \n",
            "\n",
            "      h_cD4  ...     v_cA5     v_cD5     v_cA4     v_cD4     v_cA3     v_cD3  \\\n",
            "0  8.420201  ...  1.164863  1.561817  1.179080  1.628315  1.183051  0.898459   \n",
            "1  6.411421  ...  1.140003  1.200478  1.143382  1.080769  1.017019  0.755240   \n",
            "2  1.330087  ...  0.475693  0.405332  0.412344  0.657089  0.562914  1.017333   \n",
            "3  1.725001  ...  0.551952  0.356781  0.495348  0.790310  0.683713  1.035748   \n",
            "4  1.514617  ...  0.571178  0.379509  0.559000  0.620733  0.509998  0.948676   \n",
            "\n",
            "      v_cA2     v_cD2     v_cA1     v_cD1  \n",
            "0  1.144012  0.232972  0.918489  0.231532  \n",
            "1  0.975118  0.261450  0.725167  0.244224  \n",
            "2  0.922035  0.413281  0.736306  0.211439  \n",
            "3  0.900672  0.508068  0.715817  0.217992  \n",
            "4  0.758184  0.452946  0.595538  0.202755  \n",
            "\n",
            "[5 rows x 26 columns]\n",
            "=================Bearing1_1 DONE ================\n",
            "Bearing2_3\n",
            "Bearing1_6\n",
            "Bearing2_7\n",
            "Bearing3_3\n",
            "Bearing2_5\n",
            "Bearing2_4\n",
            "Bearing2_6\n",
            "Bearing1_7\n",
            "Bearing1_5\n",
            "Bearing1_4\n",
            "Bearing1_3\n",
            "변환 소요 시간:  1685.67064 sec\n"
          ]
        }
      ],
      "source": [
        "import time\n",
        "def fix_file(df):\n",
        "    df = pd.Series(df[df.columns[0]])\n",
        "    #데이터 형식이 안맞는 경우 \n",
        "    fixed = pd.DataFrame()\n",
        "    fixed['H'] = df.str.split(';').str[0]\n",
        "    fixed['M'] = df.str.split(';').str[1]\n",
        "    fixed['S'] = df.str.split(';').str[2]\n",
        "    fixed['MS'] = df.str.split(';').str[3]\n",
        "    fixed['Horiz'] = df.str.split(';').str[4]\n",
        "    fixed['Vert'] = df.str.split(';').str[5]\n",
        "    return fixed\n",
        "\n",
        "# csv파일을 읽어와 이산 웨이블릿 변환을 적용하는 코드\n",
        "def read_data(path):\n",
        "    file_list = os.listdir(path)\n",
        "    total_list = []\n",
        "    for i in tqdm.tqdm(range(len(file_list[:-1]))):\n",
        "        \n",
        "        tem = pd.read_csv(path+'/'+file_list[i])\n",
        "        if len(tem.columns) == 6:\n",
        "            tem.columns = ['H','M','S','MS','Horiz','Vert']\n",
        "            \n",
        "            five_point_results = dwt(tem)\n",
        "            total_list.append(five_point_results)\n",
        "            \n",
        "            \n",
        "        if len(tem.columns) == 1:\n",
        "            tem2 = fix_file(tem)\n",
        "            tem2.columns = ['H','M','S','MS','Horiz','Vert']\n",
        "            \n",
        "            five_point_results = dwt(tem2)\n",
        "            total_list.append(five_point_results)        \n",
        "            \n",
        "        else:\n",
        "            continue\n",
        "            \n",
        "    return total_list \n",
        "\n",
        "\n",
        "start = time.time()\n",
        "files = os.listdir(abspath)\n",
        "files\n",
        "\n",
        "# TEST/LEARNING (파일명)\n",
        "for get_file in files:\n",
        "    path_dir = abspath+\"/\"+get_file\n",
        "    file2 = os.listdir(path_dir)\n",
        "    # Bearing file 접근\n",
        "    for file in file2:\n",
        "        if file !='Bearing1_1':\n",
        "          continue\n",
        "        path2 = path_dir+'/'+file\n",
        "        tem_fft = read_data(path2)\n",
        "        fft_data = pd.DataFrame(tem_fft)\n",
        "        # CSV 저장\n",
        "        fft_data=fft_data.sort_values(by=['H','M','S','MS'])\n",
        "        fft_data = fft_data.reset_index(drop=True)     \n",
        "        fft_data.to_csv('./'+file+\"_dwt.csv\",index=False)\n",
        "\n",
        "        # PLOT 결과 저장\n",
        "        plt.title(file+\"top5\")\n",
        "        plt.xlabel(\"Observation #\")\n",
        "        plt.ylabel(\"Feature (g)\")\n",
        "        print(fft_data.head())\n",
        "        plt.plot(fft_data['Horiz'],label='Horizontal')\n",
        "        plt.plot(fft_data['Vert'],label='Vertical')\n",
        "\n",
        "        plt.legend(loc = 'upper right')\n",
        "        plt.savefig('./dwt/'+file+'_top5.png')        \n",
        "        plt.close()\n",
        "        print(\"=================\"+file+\" DONE ================\")\n",
        "        \n",
        "end = time.time()\n",
        "print(\"변환 소요 시간: \",f\"{end - start:.5f} sec\")"
      ]
    }
  ],
  "metadata": {
    "accelerator": "GPU",
    "colab": {
      "background_execution": "on",
      "collapsed_sections": [],
      "machine_shape": "hm",
      "name": "이산웨이블릿 변환(DWT).ipynb",
      "provenance": []
    },
    "kernelspec": {
      "display_name": "Python 3",
      "name": "python3"
    },
    "language_info": {
      "name": "python"
    }
  },
  "nbformat": 4,
  "nbformat_minor": 0
}