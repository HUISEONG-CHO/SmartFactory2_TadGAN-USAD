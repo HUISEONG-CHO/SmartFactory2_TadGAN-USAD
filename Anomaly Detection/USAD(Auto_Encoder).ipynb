{
  "nbformat": 4,
  "nbformat_minor": 0,
  "metadata": {
    "colab": {
      "name": "USAD(Auto Encoder).ipynb",
      "provenance": [],
      "collapsed_sections": [],
      "machine_shape": "hm"
    },
    "kernelspec": {
      "name": "python3",
      "display_name": "Python 3"
    },
    "language_info": {
      "name": "python"
    },
    "accelerator": "GPU"
  },
  "cells": [
    {
      "cell_type": "code",
      "source": [
        "# Auto Encoder기반 Anomaly Detection 코드 실행에 필요한 라이브러리\n",
        "from utils import *\n",
        "from usad import *\n",
        "\n",
        "import numpy as np\n",
        "import pandas as pd\n",
        "import matplotlib.pyplot as plt\n",
        "import seaborn as sns\n",
        "import tensorflow as tf"
      ],
      "metadata": {
        "id": "hImRGVW0lQgn"
      },
      "execution_count": null,
      "outputs": []
    },
    {
      "cell_type": "code",
      "source": [
        "# 앞서 이산 웨이블릿 변환한 데이터를 불러온다.\n",
        "# 이산 웨이블릿 변환한 데이터를 column별로 시각화한 결과, cD3열의 데이터가 이상이 발생했을을 때와 평소를 가장 잘 구분하므로 이 열의 데이터를 활용한다.\n",
        "data_path = './dwt/'\n",
        "\n",
        "data1_1 = pd.read_csv(data_path + \"Bearing1_1_dwt.csv\",usecols=['h_cD3', 'v_cD3'])"
      ],
      "metadata": {
        "id": "kZH9jnv6k-kX"
      },
      "execution_count": null,
      "outputs": []
    },
    {
      "cell_type": "code",
      "source": [
        "data1_1.head()"
      ],
      "metadata": {
        "colab": {
          "base_uri": "https://localhost:8080/",
          "height": 204
        },
        "id": "GUqI7_xElEO9",
        "outputId": "f78bf376-3feb-43bc-d7b9-dba01df43cb2"
      },
      "execution_count": null,
      "outputs": [
        {
          "output_type": "execute_result",
          "data": {
            "text/plain": [
              "      h_cD3     v_cD3\n",
              "0  3.325501  0.898459\n",
              "1  3.631342  0.755240\n",
              "2  1.820052  1.017333\n",
              "3  1.665085  1.035748\n",
              "4  1.439624  0.948676"
            ],
            "text/html": [
              "\n",
              "  <div id=\"df-28ca8486-5424-43a0-a64e-87a9b10e5763\">\n",
              "    <div class=\"colab-df-container\">\n",
              "      <div>\n",
              "<style scoped>\n",
              "    .dataframe tbody tr th:only-of-type {\n",
              "        vertical-align: middle;\n",
              "    }\n",
              "\n",
              "    .dataframe tbody tr th {\n",
              "        vertical-align: top;\n",
              "    }\n",
              "\n",
              "    .dataframe thead th {\n",
              "        text-align: right;\n",
              "    }\n",
              "</style>\n",
              "<table border=\"1\" class=\"dataframe\">\n",
              "  <thead>\n",
              "    <tr style=\"text-align: right;\">\n",
              "      <th></th>\n",
              "      <th>h_cD3</th>\n",
              "      <th>v_cD3</th>\n",
              "    </tr>\n",
              "  </thead>\n",
              "  <tbody>\n",
              "    <tr>\n",
              "      <th>0</th>\n",
              "      <td>3.325501</td>\n",
              "      <td>0.898459</td>\n",
              "    </tr>\n",
              "    <tr>\n",
              "      <th>1</th>\n",
              "      <td>3.631342</td>\n",
              "      <td>0.755240</td>\n",
              "    </tr>\n",
              "    <tr>\n",
              "      <th>2</th>\n",
              "      <td>1.820052</td>\n",
              "      <td>1.017333</td>\n",
              "    </tr>\n",
              "    <tr>\n",
              "      <th>3</th>\n",
              "      <td>1.665085</td>\n",
              "      <td>1.035748</td>\n",
              "    </tr>\n",
              "    <tr>\n",
              "      <th>4</th>\n",
              "      <td>1.439624</td>\n",
              "      <td>0.948676</td>\n",
              "    </tr>\n",
              "  </tbody>\n",
              "</table>\n",
              "</div>\n",
              "      <button class=\"colab-df-convert\" onclick=\"convertToInteractive('df-28ca8486-5424-43a0-a64e-87a9b10e5763')\"\n",
              "              title=\"Convert this dataframe to an interactive table.\"\n",
              "              style=\"display:none;\">\n",
              "        \n",
              "  <svg xmlns=\"http://www.w3.org/2000/svg\" height=\"24px\"viewBox=\"0 0 24 24\"\n",
              "       width=\"24px\">\n",
              "    <path d=\"M0 0h24v24H0V0z\" fill=\"none\"/>\n",
              "    <path d=\"M18.56 5.44l.94 2.06.94-2.06 2.06-.94-2.06-.94-.94-2.06-.94 2.06-2.06.94zm-11 1L8.5 8.5l.94-2.06 2.06-.94-2.06-.94L8.5 2.5l-.94 2.06-2.06.94zm10 10l.94 2.06.94-2.06 2.06-.94-2.06-.94-.94-2.06-.94 2.06-2.06.94z\"/><path d=\"M17.41 7.96l-1.37-1.37c-.4-.4-.92-.59-1.43-.59-.52 0-1.04.2-1.43.59L10.3 9.45l-7.72 7.72c-.78.78-.78 2.05 0 2.83L4 21.41c.39.39.9.59 1.41.59.51 0 1.02-.2 1.41-.59l7.78-7.78 2.81-2.81c.8-.78.8-2.07 0-2.86zM5.41 20L4 18.59l7.72-7.72 1.47 1.35L5.41 20z\"/>\n",
              "  </svg>\n",
              "      </button>\n",
              "      \n",
              "  <style>\n",
              "    .colab-df-container {\n",
              "      display:flex;\n",
              "      flex-wrap:wrap;\n",
              "      gap: 12px;\n",
              "    }\n",
              "\n",
              "    .colab-df-convert {\n",
              "      background-color: #E8F0FE;\n",
              "      border: none;\n",
              "      border-radius: 50%;\n",
              "      cursor: pointer;\n",
              "      display: none;\n",
              "      fill: #1967D2;\n",
              "      height: 32px;\n",
              "      padding: 0 0 0 0;\n",
              "      width: 32px;\n",
              "    }\n",
              "\n",
              "    .colab-df-convert:hover {\n",
              "      background-color: #E2EBFA;\n",
              "      box-shadow: 0px 1px 2px rgba(60, 64, 67, 0.3), 0px 1px 3px 1px rgba(60, 64, 67, 0.15);\n",
              "      fill: #174EA6;\n",
              "    }\n",
              "\n",
              "    [theme=dark] .colab-df-convert {\n",
              "      background-color: #3B4455;\n",
              "      fill: #D2E3FC;\n",
              "    }\n",
              "\n",
              "    [theme=dark] .colab-df-convert:hover {\n",
              "      background-color: #434B5C;\n",
              "      box-shadow: 0px 1px 3px 1px rgba(0, 0, 0, 0.15);\n",
              "      filter: drop-shadow(0px 1px 2px rgba(0, 0, 0, 0.3));\n",
              "      fill: #FFFFFF;\n",
              "    }\n",
              "  </style>\n",
              "\n",
              "      <script>\n",
              "        const buttonEl =\n",
              "          document.querySelector('#df-28ca8486-5424-43a0-a64e-87a9b10e5763 button.colab-df-convert');\n",
              "        buttonEl.style.display =\n",
              "          google.colab.kernel.accessAllowed ? 'block' : 'none';\n",
              "\n",
              "        async function convertToInteractive(key) {\n",
              "          const element = document.querySelector('#df-28ca8486-5424-43a0-a64e-87a9b10e5763');\n",
              "          const dataTable =\n",
              "            await google.colab.kernel.invokeFunction('convertToInteractive',\n",
              "                                                     [key], {});\n",
              "          if (!dataTable) return;\n",
              "\n",
              "          const docLinkHtml = 'Like what you see? Visit the ' +\n",
              "            '<a target=\"_blank\" href=https://colab.research.google.com/notebooks/data_table.ipynb>data table notebook</a>'\n",
              "            + ' to learn more about interactive tables.';\n",
              "          element.innerHTML = '';\n",
              "          dataTable['output_type'] = 'display_data';\n",
              "          await google.colab.output.renderOutput(dataTable, element);\n",
              "          const docLink = document.createElement('div');\n",
              "          docLink.innerHTML = docLinkHtml;\n",
              "          element.appendChild(docLink);\n",
              "        }\n",
              "      </script>\n",
              "    </div>\n",
              "  </div>\n",
              "  "
            ]
          },
          "metadata": {},
          "execution_count": 5
        }
      ]
    },
    {
      "cell_type": "code",
      "source": [
        "data1_1.shape"
      ],
      "metadata": {
        "colab": {
          "base_uri": "https://localhost:8080/"
        },
        "id": "ylEyJPEzk-u0",
        "outputId": "3881bb82-4ee6-4d82-e221-acd8c97d2c42"
      },
      "execution_count": null,
      "outputs": [
        {
          "output_type": "execute_result",
          "data": {
            "text/plain": [
              "(2802, 2)"
            ]
          },
          "metadata": {},
          "execution_count": 6
        }
      ]
    },
    {
      "cell_type": "code",
      "source": [
        "# 값을 0~1사이의 값으로 Scaling한다.\n",
        "from sklearn import preprocessing\n",
        "min_max_scaler = preprocessing.MinMaxScaler()\n",
        "\n",
        "x = data1_1.values\n",
        "x_scaled = min_max_scaler.fit_transform(x)\n",
        "scaled_data = pd.DataFrame(x_scaled)"
      ],
      "metadata": {
        "id": "5OdJ-lWqk-xD"
      },
      "execution_count": null,
      "outputs": []
    },
    {
      "cell_type": "code",
      "source": [
        "scaled_data.head(2)"
      ],
      "metadata": {
        "colab": {
          "base_uri": "https://localhost:8080/",
          "height": 111
        },
        "id": "lolLz8fFzSlf",
        "outputId": "94eb31fd-21da-4401-8d1f-166db6516eb2"
      },
      "execution_count": null,
      "outputs": [
        {
          "output_type": "execute_result",
          "data": {
            "text/plain": [
              "          0         1\n",
              "0  0.052356  0.012069\n",
              "1  0.058861  0.008623"
            ],
            "text/html": [
              "\n",
              "  <div id=\"df-5ac44e11-b4e0-4b7d-b99f-e95a944041da\">\n",
              "    <div class=\"colab-df-container\">\n",
              "      <div>\n",
              "<style scoped>\n",
              "    .dataframe tbody tr th:only-of-type {\n",
              "        vertical-align: middle;\n",
              "    }\n",
              "\n",
              "    .dataframe tbody tr th {\n",
              "        vertical-align: top;\n",
              "    }\n",
              "\n",
              "    .dataframe thead th {\n",
              "        text-align: right;\n",
              "    }\n",
              "</style>\n",
              "<table border=\"1\" class=\"dataframe\">\n",
              "  <thead>\n",
              "    <tr style=\"text-align: right;\">\n",
              "      <th></th>\n",
              "      <th>0</th>\n",
              "      <th>1</th>\n",
              "    </tr>\n",
              "  </thead>\n",
              "  <tbody>\n",
              "    <tr>\n",
              "      <th>0</th>\n",
              "      <td>0.052356</td>\n",
              "      <td>0.012069</td>\n",
              "    </tr>\n",
              "    <tr>\n",
              "      <th>1</th>\n",
              "      <td>0.058861</td>\n",
              "      <td>0.008623</td>\n",
              "    </tr>\n",
              "  </tbody>\n",
              "</table>\n",
              "</div>\n",
              "      <button class=\"colab-df-convert\" onclick=\"convertToInteractive('df-5ac44e11-b4e0-4b7d-b99f-e95a944041da')\"\n",
              "              title=\"Convert this dataframe to an interactive table.\"\n",
              "              style=\"display:none;\">\n",
              "        \n",
              "  <svg xmlns=\"http://www.w3.org/2000/svg\" height=\"24px\"viewBox=\"0 0 24 24\"\n",
              "       width=\"24px\">\n",
              "    <path d=\"M0 0h24v24H0V0z\" fill=\"none\"/>\n",
              "    <path d=\"M18.56 5.44l.94 2.06.94-2.06 2.06-.94-2.06-.94-.94-2.06-.94 2.06-2.06.94zm-11 1L8.5 8.5l.94-2.06 2.06-.94-2.06-.94L8.5 2.5l-.94 2.06-2.06.94zm10 10l.94 2.06.94-2.06 2.06-.94-2.06-.94-.94-2.06-.94 2.06-2.06.94z\"/><path d=\"M17.41 7.96l-1.37-1.37c-.4-.4-.92-.59-1.43-.59-.52 0-1.04.2-1.43.59L10.3 9.45l-7.72 7.72c-.78.78-.78 2.05 0 2.83L4 21.41c.39.39.9.59 1.41.59.51 0 1.02-.2 1.41-.59l7.78-7.78 2.81-2.81c.8-.78.8-2.07 0-2.86zM5.41 20L4 18.59l7.72-7.72 1.47 1.35L5.41 20z\"/>\n",
              "  </svg>\n",
              "      </button>\n",
              "      \n",
              "  <style>\n",
              "    .colab-df-container {\n",
              "      display:flex;\n",
              "      flex-wrap:wrap;\n",
              "      gap: 12px;\n",
              "    }\n",
              "\n",
              "    .colab-df-convert {\n",
              "      background-color: #E8F0FE;\n",
              "      border: none;\n",
              "      border-radius: 50%;\n",
              "      cursor: pointer;\n",
              "      display: none;\n",
              "      fill: #1967D2;\n",
              "      height: 32px;\n",
              "      padding: 0 0 0 0;\n",
              "      width: 32px;\n",
              "    }\n",
              "\n",
              "    .colab-df-convert:hover {\n",
              "      background-color: #E2EBFA;\n",
              "      box-shadow: 0px 1px 2px rgba(60, 64, 67, 0.3), 0px 1px 3px 1px rgba(60, 64, 67, 0.15);\n",
              "      fill: #174EA6;\n",
              "    }\n",
              "\n",
              "    [theme=dark] .colab-df-convert {\n",
              "      background-color: #3B4455;\n",
              "      fill: #D2E3FC;\n",
              "    }\n",
              "\n",
              "    [theme=dark] .colab-df-convert:hover {\n",
              "      background-color: #434B5C;\n",
              "      box-shadow: 0px 1px 3px 1px rgba(0, 0, 0, 0.15);\n",
              "      filter: drop-shadow(0px 1px 2px rgba(0, 0, 0, 0.3));\n",
              "      fill: #FFFFFF;\n",
              "    }\n",
              "  </style>\n",
              "\n",
              "      <script>\n",
              "        const buttonEl =\n",
              "          document.querySelector('#df-5ac44e11-b4e0-4b7d-b99f-e95a944041da button.colab-df-convert');\n",
              "        buttonEl.style.display =\n",
              "          google.colab.kernel.accessAllowed ? 'block' : 'none';\n",
              "\n",
              "        async function convertToInteractive(key) {\n",
              "          const element = document.querySelector('#df-5ac44e11-b4e0-4b7d-b99f-e95a944041da');\n",
              "          const dataTable =\n",
              "            await google.colab.kernel.invokeFunction('convertToInteractive',\n",
              "                                                     [key], {});\n",
              "          if (!dataTable) return;\n",
              "\n",
              "          const docLinkHtml = 'Like what you see? Visit the ' +\n",
              "            '<a target=\"_blank\" href=https://colab.research.google.com/notebooks/data_table.ipynb>data table notebook</a>'\n",
              "            + ' to learn more about interactive tables.';\n",
              "          element.innerHTML = '';\n",
              "          dataTable['output_type'] = 'display_data';\n",
              "          await google.colab.output.renderOutput(dataTable, element);\n",
              "          const docLink = document.createElement('div');\n",
              "          docLink.innerHTML = docLinkHtml;\n",
              "          element.appendChild(docLink);\n",
              "        }\n",
              "      </script>\n",
              "    </div>\n",
              "  </div>\n",
              "  "
            ]
          },
          "metadata": {},
          "execution_count": 8
        }
      ]
    },
    {
      "cell_type": "code",
      "source": [
        "#########################################\n",
        "#                학습코드                 #\n",
        "#########################################"
      ],
      "metadata": {
        "id": "E4Bmj0S7UCS6"
      },
      "execution_count": null,
      "outputs": []
    },
    {
      "cell_type": "code",
      "source": [
        "window_size=12"
      ],
      "metadata": {
        "id": "E1EwUxkvzSoZ"
      },
      "execution_count": null,
      "outputs": []
    },
    {
      "cell_type": "code",
      "source": [
        "window_size=12\n",
        "windows_normal=scaled_data.values[np.arange(window_size)[None, :] + np.arange(scaled_data.shape[0]-window_size)[:, None]]\n",
        "windows_normal.shape"
      ],
      "metadata": {
        "colab": {
          "base_uri": "https://localhost:8080/"
        },
        "id": "KduOIf7BzSr6",
        "outputId": "2cfddf25-12c1-4e67-90f7-778f2ecc0aec"
      },
      "execution_count": null,
      "outputs": [
        {
          "output_type": "execute_result",
          "data": {
            "text/plain": [
              "(2790, 12, 2)"
            ]
          },
          "metadata": {},
          "execution_count": 10
        }
      ]
    },
    {
      "cell_type": "code",
      "source": [
        "BATCH_SIZE = 32\n",
        "N_EPOCHS = 100\n",
        "hidden_size = 10\n",
        "\n",
        "w_size=windows_normal.shape[1]*windows_normal.shape[2]\n",
        "z_size=windows_normal.shape[1]*hidden_size\n",
        "\n",
        "windows_normal_train = windows_normal[:400]\n",
        "windows_normal_test = windows_normal[400:]"
      ],
      "metadata": {
        "id": "jLuIaHGuzSvc"
      },
      "execution_count": null,
      "outputs": []
    },
    {
      "cell_type": "code",
      "source": [
        "windows_normal_train_re = windows_normal_train.reshape(windows_normal_train.shape[0], w_size)\n",
        "windows_normal_test_re = windows_normal_test.reshape(windows_normal_test.shape[0], w_size)\n",
        "windows_normal_re = windows_normal.reshape(windows_normal.shape[0], w_size)"
      ],
      "metadata": {
        "id": "CDlqVoCRzS1F"
      },
      "execution_count": null,
      "outputs": []
    },
    {
      "cell_type": "code",
      "source": [
        "windows_normal_train_re = windows_normal_train_re.astype('float32')\n",
        "windows_normal_test_re = windows_normal_test_re.astype('float32')\n",
        "windows_normal_re = windows_normal_re.astype('float32')"
      ],
      "metadata": {
        "id": "567YUdTpDVKS"
      },
      "execution_count": null,
      "outputs": []
    },
    {
      "cell_type": "code",
      "source": [
        "import torch.utils.data as data_utils\n",
        "\n",
        "train_loader = torch.utils.data.DataLoader(windows_normal_train_re,batch_size=BATCH_SIZE)\n",
        "test_loader = torch.utils.data.DataLoader(windows_normal_test_re,batch_size=BATCH_SIZE)\n",
        "whole_loader = torch.utils.data.DataLoader(windows_normal_re,batch_size=BATCH_SIZE)"
      ],
      "metadata": {
        "id": "LVoDtniqzdQr"
      },
      "execution_count": null,
      "outputs": []
    },
    {
      "cell_type": "code",
      "source": [
        "model_usad = UsadModel(w_size, z_size)\n",
        "model_usad = to_device(model_usad,device)"
      ],
      "metadata": {
        "id": "dVWndag85lTL"
      },
      "execution_count": null,
      "outputs": []
    },
    {
      "cell_type": "code",
      "source": [
        "def trainings(epochs, model, train_loader, val_loader, opt_func=torch.optim.Adam):\n",
        "    history = []\n",
        "    optimizer1 = opt_func(list(model.encoder.parameters())+list(model.decoder1.parameters()))\n",
        "    optimizer2 = opt_func(list(model.encoder.parameters())+list(model.decoder2.parameters()))\n",
        "    for epoch in range(epochs):\n",
        "        for batch in train_loader:\n",
        "            batch=to_device(batch,device)\n",
        "\n",
        "            #Train AE1\n",
        "            loss1,loss2 = model.training_step(batch,epoch+1)\n",
        "            loss1.backward()\n",
        "            optimizer1.step()\n",
        "            optimizer1.zero_grad()\n",
        "            \n",
        "            \n",
        "            #Train AE2\n",
        "            loss1,loss2 = model.training_step(batch,epoch+1)\n",
        "            loss2.backward()\n",
        "            optimizer2.step()\n",
        "            optimizer2.zero_grad()\n",
        "            \n",
        "        result = evaluates(model, val_loader, epoch+1)\n",
        "        model.epoch_end(epoch, result)\n",
        "        history.append(result)\n",
        "    return history\n",
        "\n",
        "def evaluates(model, val_loader, n):\n",
        "    outputs = [model.validation_step(to_device(batch,device), n) for batch in val_loader]\n",
        "    return model.validation_epoch_end(outputs)"
      ],
      "metadata": {
        "id": "F0WNxMGJ9aCs"
      },
      "execution_count": null,
      "outputs": []
    },
    {
      "cell_type": "code",
      "source": [
        "history = trainings(N_EPOCHS,model_usad,train_loader,test_loader)"
      ],
      "metadata": {
        "colab": {
          "base_uri": "https://localhost:8080/"
        },
        "id": "kxA5RUY1zdTS",
        "outputId": "9e82880e-42cf-4e18-9ab2-4ae1c13ddd21"
      },
      "execution_count": null,
      "outputs": [
        {
          "output_type": "stream",
          "name": "stdout",
          "text": [
            "Epoch [0], val_loss1: 0.2200, val_loss2: 0.2048\n",
            "Epoch [1], val_loss1: 0.2057, val_loss2: -0.0000\n",
            "Epoch [2], val_loss1: 0.1952, val_loss2: -0.0629\n",
            "Epoch [3], val_loss1: 0.1850, val_loss2: -0.0895\n",
            "Epoch [4], val_loss1: 0.1740, val_loss2: -0.1010\n",
            "Epoch [5], val_loss1: 0.1618, val_loss2: -0.1042\n",
            "Epoch [6], val_loss1: 0.1485, val_loss2: -0.1024\n",
            "Epoch [7], val_loss1: 0.1345, val_loss2: -0.0973\n",
            "Epoch [8], val_loss1: 0.1202, val_loss2: -0.0904\n",
            "Epoch [9], val_loss1: 0.1059, val_loss2: -0.0822\n",
            "Epoch [10], val_loss1: 0.0922, val_loss2: -0.0735\n",
            "Epoch [11], val_loss1: 0.0796, val_loss2: -0.0649\n",
            "Epoch [12], val_loss1: 0.0679, val_loss2: -0.0564\n",
            "Epoch [13], val_loss1: 0.0576, val_loss2: -0.0487\n",
            "Epoch [14], val_loss1: 0.0490, val_loss2: -0.0420\n",
            "Epoch [15], val_loss1: 0.0413, val_loss2: -0.0358\n",
            "Epoch [16], val_loss1: 0.0351, val_loss2: -0.0307\n",
            "Epoch [17], val_loss1: 0.0300, val_loss2: -0.0264\n",
            "Epoch [18], val_loss1: 0.0257, val_loss2: -0.0228\n",
            "Epoch [19], val_loss1: 0.0223, val_loss2: -0.0199\n",
            "Epoch [20], val_loss1: 0.0195, val_loss2: -0.0175\n",
            "Epoch [21], val_loss1: 0.0173, val_loss2: -0.0156\n",
            "Epoch [22], val_loss1: 0.0155, val_loss2: -0.0141\n",
            "Epoch [23], val_loss1: 0.0140, val_loss2: -0.0127\n",
            "Epoch [24], val_loss1: 0.0128, val_loss2: -0.0117\n",
            "Epoch [25], val_loss1: 0.0119, val_loss2: -0.0109\n",
            "Epoch [26], val_loss1: 0.0110, val_loss2: -0.0101\n",
            "Epoch [27], val_loss1: 0.0104, val_loss2: -0.0096\n",
            "Epoch [28], val_loss1: 0.0098, val_loss2: -0.0091\n",
            "Epoch [29], val_loss1: 0.0093, val_loss2: -0.0086\n",
            "Epoch [30], val_loss1: 0.0089, val_loss2: -0.0083\n",
            "Epoch [31], val_loss1: 0.0086, val_loss2: -0.0080\n",
            "Epoch [32], val_loss1: 0.0083, val_loss2: -0.0077\n",
            "Epoch [33], val_loss1: 0.0080, val_loss2: -0.0075\n",
            "Epoch [34], val_loss1: 0.0078, val_loss2: -0.0073\n",
            "Epoch [35], val_loss1: 0.0076, val_loss2: -0.0072\n",
            "Epoch [36], val_loss1: 0.0075, val_loss2: -0.0070\n",
            "Epoch [37], val_loss1: 0.0073, val_loss2: -0.0069\n",
            "Epoch [38], val_loss1: 0.0072, val_loss2: -0.0068\n",
            "Epoch [39], val_loss1: 0.0071, val_loss2: -0.0067\n",
            "Epoch [40], val_loss1: 0.0070, val_loss2: -0.0066\n",
            "Epoch [41], val_loss1: 0.0069, val_loss2: -0.0065\n",
            "Epoch [42], val_loss1: 0.0068, val_loss2: -0.0064\n",
            "Epoch [43], val_loss1: 0.0067, val_loss2: -0.0064\n",
            "Epoch [44], val_loss1: 0.0066, val_loss2: -0.0063\n",
            "Epoch [45], val_loss1: 0.0066, val_loss2: -0.0063\n",
            "Epoch [46], val_loss1: 0.0065, val_loss2: -0.0062\n",
            "Epoch [47], val_loss1: 0.0065, val_loss2: -0.0062\n",
            "Epoch [48], val_loss1: 0.0064, val_loss2: -0.0061\n",
            "Epoch [49], val_loss1: 0.0064, val_loss2: -0.0061\n",
            "Epoch [50], val_loss1: 0.0063, val_loss2: -0.0061\n",
            "Epoch [51], val_loss1: 0.0063, val_loss2: -0.0060\n",
            "Epoch [52], val_loss1: 0.0063, val_loss2: -0.0060\n",
            "Epoch [53], val_loss1: 0.0062, val_loss2: -0.0060\n",
            "Epoch [54], val_loss1: 0.0062, val_loss2: -0.0060\n",
            "Epoch [55], val_loss1: 0.0062, val_loss2: -0.0059\n",
            "Epoch [56], val_loss1: 0.0061, val_loss2: -0.0059\n",
            "Epoch [57], val_loss1: 0.0061, val_loss2: -0.0059\n",
            "Epoch [58], val_loss1: 0.0061, val_loss2: -0.0059\n",
            "Epoch [59], val_loss1: 0.0061, val_loss2: -0.0059\n",
            "Epoch [60], val_loss1: 0.0060, val_loss2: -0.0058\n",
            "Epoch [61], val_loss1: 0.0060, val_loss2: -0.0058\n",
            "Epoch [62], val_loss1: 0.0060, val_loss2: -0.0058\n",
            "Epoch [63], val_loss1: 0.0060, val_loss2: -0.0058\n",
            "Epoch [64], val_loss1: 0.0060, val_loss2: -0.0058\n",
            "Epoch [65], val_loss1: 0.0060, val_loss2: -0.0058\n",
            "Epoch [66], val_loss1: 0.0060, val_loss2: -0.0058\n",
            "Epoch [67], val_loss1: 0.0059, val_loss2: -0.0058\n",
            "Epoch [68], val_loss1: 0.0059, val_loss2: -0.0057\n",
            "Epoch [69], val_loss1: 0.0059, val_loss2: -0.0057\n",
            "Epoch [70], val_loss1: 0.0059, val_loss2: -0.0057\n",
            "Epoch [71], val_loss1: 0.0059, val_loss2: -0.0057\n",
            "Epoch [72], val_loss1: 0.0059, val_loss2: -0.0057\n",
            "Epoch [73], val_loss1: 0.0059, val_loss2: -0.0057\n",
            "Epoch [74], val_loss1: 0.0059, val_loss2: -0.0057\n",
            "Epoch [75], val_loss1: 0.0059, val_loss2: -0.0057\n",
            "Epoch [76], val_loss1: 0.0059, val_loss2: -0.0057\n",
            "Epoch [77], val_loss1: 0.0058, val_loss2: -0.0057\n",
            "Epoch [78], val_loss1: 0.0058, val_loss2: -0.0057\n",
            "Epoch [79], val_loss1: 0.0058, val_loss2: -0.0057\n",
            "Epoch [80], val_loss1: 0.0058, val_loss2: -0.0057\n",
            "Epoch [81], val_loss1: 0.0058, val_loss2: -0.0057\n",
            "Epoch [82], val_loss1: 0.0058, val_loss2: -0.0057\n",
            "Epoch [83], val_loss1: 0.0058, val_loss2: -0.0057\n",
            "Epoch [84], val_loss1: 0.0058, val_loss2: -0.0057\n",
            "Epoch [85], val_loss1: 0.0058, val_loss2: -0.0057\n",
            "Epoch [86], val_loss1: 0.0058, val_loss2: -0.0056\n",
            "Epoch [87], val_loss1: 0.0058, val_loss2: -0.0056\n",
            "Epoch [88], val_loss1: 0.0058, val_loss2: -0.0056\n",
            "Epoch [89], val_loss1: 0.0058, val_loss2: -0.0056\n",
            "Epoch [90], val_loss1: 0.0058, val_loss2: -0.0056\n",
            "Epoch [91], val_loss1: 0.0058, val_loss2: -0.0056\n",
            "Epoch [92], val_loss1: 0.0058, val_loss2: -0.0056\n",
            "Epoch [93], val_loss1: 0.0058, val_loss2: -0.0056\n",
            "Epoch [94], val_loss1: 0.0057, val_loss2: -0.0056\n",
            "Epoch [95], val_loss1: 0.0057, val_loss2: -0.0056\n",
            "Epoch [96], val_loss1: 0.0057, val_loss2: -0.0056\n",
            "Epoch [97], val_loss1: 0.0057, val_loss2: -0.0056\n",
            "Epoch [98], val_loss1: 0.0057, val_loss2: -0.0056\n",
            "Epoch [99], val_loss1: 0.0057, val_loss2: -0.0056\n"
          ]
        }
      ]
    },
    {
      "cell_type": "code",
      "source": [
        "plot_history(history)"
      ],
      "metadata": {
        "colab": {
          "base_uri": "https://localhost:8080/",
          "height": 295
        },
        "id": "sKONs9ZmG-KD",
        "outputId": "abfda05a-86e2-4667-c54c-0d93fa034a1c"
      },
      "execution_count": null,
      "outputs": [
        {
          "output_type": "display_data",
          "data": {
            "text/plain": [
              "<Figure size 432x288 with 1 Axes>"
            ],
            "image/png": "[encoded data removed]"
          },
          "metadata": {
            "needs_background": "light"
          }
        }
      ]
    },
    {
      "cell_type": "code",
      "source": [
        "# 학습된 모델을 가지고 예측을 하는 함수\n",
        "def testings(model, test_loader, alpha=.5, beta=.5):\n",
        "    results=[]\n",
        "    for batch in test_loader:\n",
        "        batch=to_device(batch,device)\n",
        "        w1=model.decoder1(model.encoder(batch))\n",
        "        w2=model.decoder2(model.encoder(w1))\n",
        "        results.append(alpha*torch.mean((batch-w1)**2,axis=1)+beta*torch.mean((batch-w2)**2,axis=1))\n",
        "    return results"
      ],
      "metadata": {
        "id": "lUsBdG3EHrJA"
      },
      "execution_count": null,
      "outputs": []
    },
    {
      "cell_type": "code",
      "source": [
        "# 수집된 전체 데이터에 대해서 예측을 진행한다.\n",
        "a = testings(model_usad,whole_loader)\n",
        "a_cpu=[]\n",
        "for i in range(len(a)):\n",
        "  a_cpu.append(a[i].detach().cpu())\n",
        "a = np.concatenate([np.stack(a_cpu[:-1]).flatten(), a_cpu[-1].flatten()])\n",
        "\n",
        "# train데이터에 대해서 예측 결과를 생성한다.\n",
        "b = testings(model_usad,train_loader)\n",
        "b_cpu=[]\n",
        "for i in range(len(b)):\n",
        "  b_cpu.append(b[i].detach().cpu())\n",
        "b = np.concatenate([np.stack(b_cpu[:-1]).flatten(), b_cpu[-1].flatten()])"
      ],
      "metadata": {
        "id": "PvFjh2p-zdWr"
      },
      "execution_count": null,
      "outputs": []
    },
    {
      "cell_type": "code",
      "source": [
        "# Train데이터에 대해 예측된 값을 바탕으로 Threshold값을 정하고 이 값이 넘는 값은 이상치로 판단한다.\n",
        "from matplotlib import pyplot as plt\n",
        "\n",
        "plt.plot([x for x in range(a.shape[0])], a)\n",
        "plt.axhline(y=b.mean() + 5 * b.std(), color='r', linewidth=1)\n",
        "plt.title('Anomaly Detection')\n",
        "plt.xlabel('Time')\n",
        "plt.ylabel('Anomaly Score')\n",
        "plt.show()"
      ],
      "metadata": {
        "colab": {
          "base_uri": "https://localhost:8080/",
          "height": 295
        },
        "id": "xwAnUallzdZV",
        "outputId": "ef214c35-de93-46f6-c0af-9a0360a8e160"
      },
      "execution_count": null,
      "outputs": [
        {
          "output_type": "display_data",
          "data": {
            "text/plain": [
              "<Figure size 432x288 with 1 Axes>"
            ],
            "image/png": "[encoded data removed]"
          },
          "metadata": {
            "needs_background": "light"
          }
        }
      ]
    },
    {
      "cell_type": "code",
      "source": [
        "# Threshold\n",
        "b.mean() + 5 * b.std()"
      ],
      "metadata": {
        "colab": {
          "base_uri": "https://localhost:8080/"
        },
        "id": "zw49x589zlln",
        "outputId": "3209a2b4-3059-4a5f-d48b-fe61609c0e52"
      },
      "execution_count": null,
      "outputs": [
        {
          "output_type": "execute_result",
          "data": {
            "text/plain": [
              "0.06151166930794716"
            ]
          },
          "metadata": {},
          "execution_count": 78
        }
      ]
    },
    {
      "cell_type": "code",
      "source": [
        "#이상치가 아닌 값의 개수\n",
        "start_idx = np.max(np.where(a < b.mean() + 5 * b.std())[0]); start_idx"
      ],
      "metadata": {
        "colab": {
          "base_uri": "https://localhost:8080/"
        },
        "id": "IceBdp0azloe",
        "outputId": "4d588b15-a8f0-4501-c657-06861396ce47"
      },
      "execution_count": null,
      "outputs": [
        {
          "output_type": "execute_result",
          "data": {
            "text/plain": [
              "2789"
            ]
          },
          "metadata": {},
          "execution_count": 79
        }
      ]
    },
    {
      "cell_type": "code",
      "source": [
        "#이상치의 개수\n",
        "a_ = a[:1895]\n",
        "np.where(a_ > b.mean() + 5 * b.std())[0].shape"
      ],
      "metadata": {
        "colab": {
          "base_uri": "https://localhost:8080/"
        },
        "id": "ano80j3Vzltu",
        "outputId": "388a2187-62bb-49a6-844a-46bcf727eead"
      },
      "execution_count": null,
      "outputs": [
        {
          "output_type": "execute_result",
          "data": {
            "text/plain": [
              "(18,)"
            ]
          },
          "metadata": {},
          "execution_count": 80
        }
      ]
    }
  ]
}